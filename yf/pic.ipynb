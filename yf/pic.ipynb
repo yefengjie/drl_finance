{
 "cells": [
  {
   "cell_type": "code",
   "execution_count": 42,
   "metadata": {
    "ExecuteTime": {
     "end_time": "2020-01-02T14:32:05.986154Z",
     "start_time": "2020-01-02T14:32:05.980254Z"
    }
   },
   "outputs": [
    {
     "ename": "IndentationError",
     "evalue": "unindent does not match any outer indentation level (<tokenize>, line 23)",
     "output_type": "error",
     "traceback": [
      "\u001b[0;36m  File \u001b[0;32m\"<tokenize>\"\u001b[0;36m, line \u001b[0;32m23\u001b[0m\n\u001b[0;31m    except Exception as e:\u001b[0m\n\u001b[0m    ^\u001b[0m\n\u001b[0;31mIndentationError\u001b[0m\u001b[0;31m:\u001b[0m unindent does not match any outer indentation level\n"
     ]
    }
   ],
   "source": [
    "import os\n",
    "import shutil\n",
    "old_dir=\"/Users/yefeng/yf/night/pic/\"\n",
    "pic_dir=\"/Users/yefeng/yf/night/daily/pic/\"\n",
    "mp4_dir=\"/Users/yefeng/yf/night/daily/mp4/\"\n",
    "for maindir, subdir, file_name_list in os.walk(old_dir):\n",
    "    for file in file_name_list:\n",
    "        if(maindir.startswith(\".\")):\n",
    "            continue\n",
    "        if(\"/.\" in maindir):\n",
    "            continue\n",
    "        if(file.lower().endswith(\".jpg\")\\\n",
    "           or file.lower().endswith(\".jpeg\")\\\n",
    "           or file.lower().endswith(\".gif\")\\\n",
    "           or file.lower().endswith(\".png\")):\n",
    "            try:\n",
    "                shutil.move(maindir+\"/\"+file, pic_dir)\n",
    "            except Exception as e:\n",
    "                print(e)\n",
    "        if(file.lower().endswith(\".mp4\")):\n",
    "             try:\n",
    "                shutil.move(maindir+\"/\"+file, mp4_dir)\n",
    "                except Exception as e:\n",
    "                print(e)\n",
    "                "
   ]
  },
  {
   "cell_type": "code",
   "execution_count": null,
   "metadata": {},
   "outputs": [],
   "source": []
  }
 ],
 "metadata": {
  "kernelspec": {
   "display_name": "Python (ai)",
   "language": "python",
   "name": "ai"
  },
  "language_info": {
   "codemirror_mode": {
    "name": "ipython",
    "version": 3
   },
   "file_extension": ".py",
   "mimetype": "text/x-python",
   "name": "python",
   "nbconvert_exporter": "python",
   "pygments_lexer": "ipython3",
   "version": "3.6.2"
  },
  "toc": {
   "base_numbering": 1,
   "nav_menu": {},
   "number_sections": true,
   "sideBar": true,
   "skip_h1_title": false,
   "title_cell": "Table of Contents",
   "title_sidebar": "Contents",
   "toc_cell": false,
   "toc_position": {},
   "toc_section_display": true,
   "toc_window_display": false
  },
  "varInspector": {
   "cols": {
    "lenName": 16,
    "lenType": 16,
    "lenVar": 40
   },
   "kernels_config": {
    "python": {
     "delete_cmd_postfix": "",
     "delete_cmd_prefix": "del ",
     "library": "var_list.py",
     "varRefreshCmd": "print(var_dic_list())"
    },
    "r": {
     "delete_cmd_postfix": ") ",
     "delete_cmd_prefix": "rm(",
     "library": "var_list.r",
     "varRefreshCmd": "cat(var_dic_list()) "
    }
   },
   "types_to_exclude": [
    "module",
    "function",
    "builtin_function_or_method",
    "instance",
    "_Feature"
   ],
   "window_display": false
  }
 },
 "nbformat": 4,
 "nbformat_minor": 2
}
